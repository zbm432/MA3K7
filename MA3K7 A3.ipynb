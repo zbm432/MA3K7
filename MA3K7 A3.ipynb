{
 "cells": [
  {
   "cell_type": "code",
   "execution_count": null,
   "id": "dfc7969e-6b24-4a29-b92d-867e535a4b80",
   "metadata": {},
   "outputs": [],
   "source": [
    "#Import necessary libraries \n",
    "import random\n",
    "import matplotlib.pyplot as plt"
   ]
  },
  {
   "cell_type": "code",
   "execution_count": null,
   "id": "4d0ab123-3353-474a-bbd9-a5a3f40a8160",
   "metadata": {
    "tags": []
   },
   "outputs": [],
   "source": [
    "#Define function to simulate game with variable number of simulations\n",
    "def simulate_hat_numbers(num_simulations):\n",
    "    results = []\n",
    "    \n",
    "    for _ in range(num_simulations):\n",
    "        #Create number range for papers in hat\n",
    "        numbers = list(range(1, 2025))\n",
    "        \n",
    "        # Continue until only one piece of paper remains\n",
    "        while len(numbers) > 1:\n",
    "            # Randomly pick two numbers\n",
    "            a, b = random.sample(numbers, 2)\n",
    "            \n",
    "            # Calculate the difference\n",
    "            difference = abs(a - b)\n",
    "            \n",
    "            # Remove two original picked numbers\n",
    "            numbers.remove(a)\n",
    "            numbers.remove(b)\n",
    "            \n",
    "            # Add the difference to the hat\n",
    "            numbers.append(difference)\n",
    "        \n",
    "        # The last remaining number is the result\n",
    "        results.append(numbers[0])\n",
    "    \n",
    "    return results\n",
    "\n",
    "# Run 10000 simulations \n",
    "num_simulations = 10000\n",
    "simulation_results = simulate_hat_numbers(num_simulations)\n",
    "\n",
    "# Count the frequency of each result\n",
    "frequency = {}\n",
    "for result in simulation_results:\n",
    "    frequency[result] = frequency.get(result, 0) + 1\n",
    "\n",
    "# Convert frequency to probability\n",
    "probabilities = {k: v / num_simulations for k, v in frequency.items()}\n",
    "\n",
    "# Count how many times an odd number is the last number remaining\n",
    "odd_count = sum(1 for result in simulation_results if result % 2 != 0)\n",
    "\n",
    "# Plot probability and range \n",
    "plt.figure(figsize=(15, 5))\n",
    "plt.bar(probabilities.keys(), probabilities.values(), color='blue')\n",
    "plt.xlabel('Number')\n",
    "plt.ylabel('Probability')\n",
    "plt.title('Probability of the Last Number Remaining After Simulation')\n",
    "plt.show()\n",
    "\n",
    "# Print the count and proportion of odd numbers\n",
    "print(f\"Odd numbers were the last number remaining {odd_count} times out of {num_simulations} simulations.\")\n",
    "\n"
   ]
  },
  {
   "cell_type": "code",
   "execution_count": null,
   "id": "291eeaa3-a3ef-4631-bd2e-e3f1d8e3a469",
   "metadata": {},
   "outputs": [],
   "source": []
  },
  {
   "cell_type": "code",
   "execution_count": null,
   "id": "88d6e93c-42f2-4a34-928b-941220d7c24b",
   "metadata": {},
   "outputs": [],
   "source": []
  }
 ],
 "metadata": {
  "kernelspec": {
   "display_name": "Python 3 (ipykernel)",
   "language": "python",
   "name": "python3"
  },
  "language_info": {
   "codemirror_mode": {
    "name": "ipython",
    "version": 3
   },
   "file_extension": ".py",
   "mimetype": "text/x-python",
   "name": "python",
   "nbconvert_exporter": "python",
   "pygments_lexer": "ipython3",
   "version": "3.11.5"
  }
 },
 "nbformat": 4,
 "nbformat_minor": 5
}
