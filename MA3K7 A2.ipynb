{
 "cells": [
  {
   "cell_type": "code",
   "execution_count": 1,
   "id": "05101946-42ff-4714-b9d3-471f34a9636e",
   "metadata": {
    "tags": []
   },
   "outputs": [],
   "source": [
    "# Import necessary libraries\n",
    "import numpy as np\n",
    "from itertools import product"
   ]
  },
  {
   "cell_type": "code",
   "execution_count": 2,
   "id": "9594b24f-edf3-4c04-a78a-78aa2b165b0e",
   "metadata": {
    "tags": []
   },
   "outputs": [],
   "source": [
    "#Initiate function \n",
    "def matrices_and_zeros(n):\n",
    "    # Initiate what we want to count\n",
    "    total_matrices = 0  \n",
    "    zero_determinant_count = 0\n",
    "\n",
    "    # Iterate over all binary matrices of size n*n\n",
    "    for binary_string in product([0, 1], repeat=n*n):\n",
    "        matrix = np.array(binary_string).reshape(n, n)\n",
    "        \n",
    "        # Calculate the sum of all elements in the matrix\n",
    "        matrix_sum = np.sum(matrix)\n",
    "        \n",
    "        # Check if n is even, then the sum must equal n\n",
    "        # If n is odd, the sum can be n, n+1, or n-1\n",
    "        if (n % 2 == 0 and matrix_sum == n) or (n % 2 != 0 and matrix_sum in [n, n+1, n-1]):\n",
    "            total_matrices += 1  # Count matrices that meet the condition based on the parity of n\n",
    "            if round(np.linalg.det(matrix)) == 0:\n",
    "                zero_determinant_count += 1\n",
    "                \n",
    "\n",
    "    return total_matrices, zero_determinant_count\n"
   ]
  },
  {
   "cell_type": "code",
   "execution_count": 3,
   "id": "8d8a1571-aba0-4a96-8403-1f05056aa4fa",
   "metadata": {
    "tags": []
   },
   "outputs": [
    {
     "data": {
      "text/plain": [
       "(1820, 1796)"
      ]
     },
     "execution_count": 3,
     "metadata": {},
     "output_type": "execute_result"
    }
   ],
   "source": [
    "matrices_and_zeros(4)"
   ]
  },
  {
   "cell_type": "code",
   "execution_count": 4,
   "id": "064f3b21-dda9-4b06-ba2a-23e421013c29",
   "metadata": {
    "tags": []
   },
   "outputs": [],
   "source": [
    "def create_matrix(n):\n",
    "    # Initiate n x n matrix filled with -1 for the empty spaces\n",
    "    return np.full((n, n), -1)\n",
    "\n",
    "def print_matrix(matrix):\n",
    "    #Print the matrix in a way we can tell which elements are empty\n",
    "    display_matrix = np.where(matrix == -1, '_', matrix)  # Replace -1 with '_' in visible matrix\n",
    "    print(\"\\nCurrent state of the board:\")\n",
    "    print(display_matrix)\n",
    "\n",
    "def is_valid_move(matrix, row, col):\n",
    "    # Check if the chosen move is allowed \n",
    "    n = len(matrix)\n",
    "    return 0 <= row < n and 0 <= col < n and matrix[row, col] == -1\n",
    "\n",
    "def make_move(matrix, player, row, col):\n",
    "    matrix[row, col] = player\n",
    "\n",
    "def opponent_strategy(matrix, col):\n",
    "    # Make a move for the opponent based on conjecture 3\n",
    "    n = len(matrix)\n",
    "    row = -1  # Initialize row variable\n",
    "\n",
    "    # Check for the special rules first\n",
    "    if col in [0, 2] and col + 1 < n:\n",
    "        # Find the row where the 1 was placed\n",
    "        row = np.where(matrix[:,col] == 1)[0][0]\n",
    "        if matrix[row, col + 1] == -1:\n",
    "            matrix[row, col + 1] = 0\n",
    "            return True\n",
    "    elif col in [1, 3] and col - 1 >= 0:\n",
    "        # Find the row where the 1 was placed\n",
    "        row = np.where(matrix[:,col] == 1)[0][0]\n",
    "        if matrix[row, col - 1] == -1:\n",
    "            matrix[row, col - 1] = 0\n",
    "            return True\n",
    "    \n",
    "    # If special rules did not apply, place 0 randomly\n",
    "    empty_spaces = [(i, j) for i in range(n) for j in range(n) if matrix[i, j] == -1]\n",
    "    if empty_spaces:\n",
    "        row, col = random.choice(empty_spaces)\n",
    "        matrix[row, col] = 0\n",
    "        return True\n",
    "    \n",
    "    return False  # Return False if no move was made (should not happen)\n",
    "\n",
    "def calculate_determinant(matrix):\n",
    "    filled_matrix = np.where(matrix == -1, 0, matrix)  # Remove -1 to calculate determinant \n",
    "    return np.linalg.det(filled_matrix)\n",
    "\n",
    "def matrix_game(n):\n",
    "    matrix = create_matrix(n)\n",
    "    moves = n * n // 2  # max number of moves for each player\n",
    "\n",
    "    # Ask who starts the game\n",
    "    start_player = input(\"Who starts the game? (1 or 0): \").strip()\n",
    "\n",
    "    # If 0 starts, make a random move for 0\n",
    "    if start_player == '0':\n",
    "        row, col = random.choice([(i, j) for i in range(n) for j in range(n)])\n",
    "        make_move(matrix, 0, row, col)\n",
    "        moves -= 1  # Decrease the number of moves after 0 starts\n",
    "\n",
    "    # Game Play\n",
    "    while moves > 0:\n",
    "        print_matrix(matrix)\n",
    "        print(\"Your turn to place a 1.\")\n",
    "\n",
    "        # Ask for player's input/ play \n",
    "        try:\n",
    "            row = int(input(\"Enter row number (0-indexed): \"))\n",
    "            col = int(input(\"Enter column number (0-indexed): \"))\n",
    "            if is_valid_move(matrix, row, col):\n",
    "                make_move(matrix, 1, row, col)\n",
    "                if moves > 1 or n % 2 == 0:\n",
    "                    opponent_strategy(matrix, col)\n",
    "                moves -= 1\n",
    "            else:\n",
    "                print(\"Invalid move. Try again.\")\n",
    "        except ValueError:\n",
    "            print(\"Invalid input. Please enter numbers.\")\n",
    "        except KeyboardInterrupt:\n",
    "            print(\"\\nGame interrupted by the user.\")\n",
    "            break\n",
    "\n",
    "    # Determine who has won, if determinant is 0 or not\n",
    "    print_matrix(matrix)\n",
    "    determinant = calculate_determinant(matrix)\n",
    "    print(\"Determinant:\", determinant)\n",
    "    if determinant == 0:\n",
    "        print(\"0 wins! (Determinant is 0)\")\n",
    "    else:\n",
    "        print(\"Tom wins! (Determinant is not 0)\")\n",
    "\n",
    "\n",
    "# Start the game with matrix size n remove following comments to play\n",
    "# n = int(input(\"Enter the size of the matrix (n): \"))\n",
    "# matrix_game(n)\n"
   ]
  },
  {
   "cell_type": "markdown",
   "id": "842d861e-f8b8-45d7-8e80-70c55276d7df",
   "metadata": {},
   "source": [
    "**Extension : Introduction of -1**\n",
    "Now let us see what happens when we have -1 as a possible option for the number of winning 2 x 2 matrices "
   ]
  },
  {
   "cell_type": "code",
   "execution_count": 5,
   "id": "40e48dc1-0ce9-492b-9295-5d89d5a0cae4",
   "metadata": {
    "tags": []
   },
   "outputs": [
    {
     "name": "stdout",
     "output_type": "stream",
     "text": [
      "Total 3 x 3 matrices with -1, 0, and 1 entries: 19683\n",
      "Matrices with zero determinant: 7875\n"
     ]
    }
   ],
   "source": [
    "\n",
    "\n",
    "# Initiate function \n",
    "def matrices_and_zeros(n):\n",
    "    # Initiate what we want to count\n",
    "    total_matrices = 0  \n",
    "    zero_determinant_count = 0\n",
    "\n",
    "    # Iterate over all matrices\n",
    "    for matrix_entries in product([-1, 0, 1], repeat=n*n):\n",
    "        matrix = np.array(matrix_entries).reshape(n, n)\n",
    "        \n",
    "        total_matrices += 1  # Count this matrix\n",
    "        if round(np.linalg.det(matrix)) == 0:\n",
    "            zero_determinant_count += 1  # Count matrices with determinant zero\n",
    "\n",
    "    return total_matrices, zero_determinant_count\n",
    "\n",
    "# Example:\n",
    "n = 3  \n",
    "total, zeros = matrices_and_zeros(n)\n",
    "print(f\"Total 3 x 3 matrices with -1, 0, and 1 entries: {total}\")\n",
    "print(f\"Matrices with zero determinant: {zeros}\")\n",
    "\n"
   ]
  },
  {
   "cell_type": "code",
   "execution_count": null,
   "id": "6bc28d97-4c5a-439e-be80-c97a4fba0055",
   "metadata": {},
   "outputs": [],
   "source": []
  }
 ],
 "metadata": {
  "kernelspec": {
   "display_name": "Python 3 (ipykernel)",
   "language": "python",
   "name": "python3"
  },
  "language_info": {
   "codemirror_mode": {
    "name": "ipython",
    "version": 3
   },
   "file_extension": ".py",
   "mimetype": "text/x-python",
   "name": "python",
   "nbconvert_exporter": "python",
   "pygments_lexer": "ipython3",
   "version": "3.11.5"
  }
 },
 "nbformat": 4,
 "nbformat_minor": 5
}
