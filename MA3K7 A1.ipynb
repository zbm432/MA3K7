{
 "cells": [
  {
   "cell_type": "code",
   "execution_count": 6,
   "id": "7594db5e-3828-4608-9fad-b586abd01679",
   "metadata": {},
   "outputs": [
    {
     "data": {
      "text/plain": [
       "6"
      ]
     },
     "execution_count": 6,
     "metadata": {},
     "output_type": "execute_result"
    }
   ],
   "source": [
    "import numpy as np\n",
    "\n",
    "\n",
    "def number_bracelet(n, k):\n",
    "    if n >= 10 or k >= 10:\n",
    "        raise ValueError('n and k must be less than 10')\n",
    "    \n",
    "    sequence = [n, k]\n",
    "    \n",
    "    while True:\n",
    "        next_term = (sequence[-2] + sequence[-1]) % 10\n",
    "        if len(sequence) > 2 and sequence[-1] == n and next_term == k:\n",
    "            # Include the starting pair at the end to complete the loop\n",
    "            sequence.append(next_term)\n",
    "            break\n",
    "        sequence.append(next_term)\n",
    "            \n",
    "    return sequence\n",
    "\n",
    "def count_unique_bracelets_with_complete_loop():\n",
    "    seen_pairs = set()\n",
    "    unique_bracelets_count = 0\n",
    "\n",
    "    # Create bracelets using the corrected number_bracelet function\n",
    "    for n in range(10):\n",
    "        for k in range(10):\n",
    "            if (n, k) not in seen_pairs:\n",
    "                bracelet = number_bracelet(n, k)\n",
    "                # Add the pairs to the seen set\n",
    "                for i in range(len(bracelet) - 1):\n",
    "                    seen_pairs.add((bracelet[i], bracelet[i + 1]))\n",
    "                # Increment the count of unique bracelets\n",
    "                unique_bracelets_count += 1\n",
    "\n",
    "    return unique_bracelets_count\n",
    "\n",
    "# Count the unique bracelets with the complete loop definition\n",
    "count_unique_bracelets_with_complete_loop()\n"
   ]
  },
  {
   "cell_type": "code",
   "execution_count": 7,
   "id": "8f213501-3d72-4735-aeb3-f54602702381",
   "metadata": {},
   "outputs": [
    {
     "data": {
      "text/plain": [
       "[2, 6, 8, 4, 2, 6]"
      ]
     },
     "execution_count": 7,
     "metadata": {},
     "output_type": "execute_result"
    }
   ],
   "source": [
    "number_bracelet(2,6)"
   ]
  },
  {
   "cell_type": "code",
   "execution_count": null,
   "id": "2f9958aa-eece-4e70-b228-6144e4f9cff1",
   "metadata": {},
   "outputs": [],
   "source": []
  }
 ],
 "metadata": {
  "kernelspec": {
   "display_name": "Python 3 (ipykernel)",
   "language": "python",
   "name": "python3"
  },
  "language_info": {
   "codemirror_mode": {
    "name": "ipython",
    "version": 3
   },
   "file_extension": ".py",
   "mimetype": "text/x-python",
   "name": "python",
   "nbconvert_exporter": "python",
   "pygments_lexer": "ipython3",
   "version": "3.11.5"
  }
 },
 "nbformat": 4,
 "nbformat_minor": 5
}
