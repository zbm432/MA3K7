{
 "cells": [
  {
   "cell_type": "code",
   "execution_count": null,
   "id": "6448e264-eecf-473e-a2b8-8c9d7a52c7d5",
   "metadata": {
    "tags": []
   },
   "outputs": [],
   "source": [
    "# Import necessary libraries \n",
    "from collections import deque\n",
    "from itertools import permutations\n",
    "import random"
   ]
  },
  {
   "cell_type": "markdown",
   "id": "8df63217-63f3-4773-8c7b-315595c5e5f0",
   "metadata": {},
   "source": [
    "Input a given number of As Bs and Cs to work out all the combinations."
   ]
  },
  {
   "cell_type": "code",
   "execution_count": null,
   "id": "b5a19668-5eaa-4371-bcef-b420a87e6601",
   "metadata": {
    "tags": []
   },
   "outputs": [],
   "source": [
    "\n",
    "# Define collisions simulator \n",
    "def simulate_collisions(a, b, c):\n",
    "    initial_state = (a, b, c)\n",
    "    queue = deque([initial_state])\n",
    "    seen = set([initial_state])\n",
    "\n",
    "    collision_rules = {\n",
    "        ('A', 'B'): (0, 0, 2),\n",
    "        ('B', 'C'): (2, 0, 0),\n",
    "        ('A', 'C'): (0, 2, 0)\n",
    "    }\n",
    "\n",
    "    while queue:\n",
    "        current = queue.popleft()\n",
    "        a, b, c = current\n",
    "\n",
    "        for (p1, p2), (da, db, dc) in collision_rules.items():\n",
    "            if p1 == 'A' and a > 0 and p2 == 'B' and b > 0:\n",
    "                new_state = (a - 1 + da, b - 1 + db, c + dc)\n",
    "            elif p1 == 'B' and b > 0 and p2 == 'C' and c > 0:\n",
    "                new_state = (a + da, b - 1 + db, c - 1 + dc)\n",
    "            elif p1 == 'A' and a > 0 and p2 == 'C' and c > 0:\n",
    "                new_state = (a - 1 + da, b + db, c - 1 + dc)\n",
    "            else:\n",
    "                continue\n",
    "\n",
    "            if new_state not in seen:\n",
    "                seen.add(new_state)\n",
    "                queue.append(new_state)\n",
    "\n",
    "    return list(seen)\n",
    "\n",
    "# Format outcomes to be strings i.e ABB instead of A: 1 B: 2 C:0\n",
    "def format_outcomes(outcomes):\n",
    "    formatted = []\n",
    "    for a, b, c in outcomes:\n",
    "        outcome_str = 'A' * a + 'B' * b + 'C' * c\n",
    "        formatted.append(outcome_str)\n",
    "    return formatted\n",
    "\n",
    "user_input_a = int(input(\"Enter the number of A particles: \")) \n",
    "user_input_b = int(input(\"Enter the number of B particles: \"))  \n",
    "user_input_c = int(input(\"Enter the number of C particles: \"))  \n",
    "\n",
    "unique_outcomes = simulate_collisions(user_input_a, user_input_b, user_input_c)\n",
    "formatted_outcomes = format_outcomes(unique_outcomes)\n",
    "\n",
    "print(\"Unique Outcomes from the initial combination of particles :\")\n",
    "for outcome in formatted_outcomes:\n",
    "    print(outcome)\n"
   ]
  },
  {
   "cell_type": "code",
   "execution_count": null,
   "id": "5b9ae607-e5a3-48d0-867f-65219bddef3c",
   "metadata": {
    "tags": []
   },
   "outputs": [],
   "source": [
    "# Generate all initial combinations for a given n\n",
    "def generate_combinations(n):\n",
    "    for a in range(n + 1):\n",
    "        for b in range(n + 1 - a):\n",
    "            c = n - a - b\n",
    "            if a == n or b == n or c == n:  \n",
    "                continue\n",
    "            yield (a, b, c)\n",
    "\n",
    "\n",
    "    while queue:\n",
    "        current = queue.popleft()\n",
    "        a, b, c = current\n",
    "\n",
    "        for (p1, p2), (da, db, dc) in collision_rules.items():\n",
    "            if p1 == 'A' and a > 0 and p2 == 'B' and b > 0:\n",
    "                new_state = (a - 1 + da, b - 1 + db, c + dc)\n",
    "            elif p1 == 'B' and b > 0 and p2 == 'C' and c > 0:\n",
    "                new_state = (a + da, b - 1 + db, c - 1 + dc)\n",
    "            elif p1 == 'A' and a > 0 and p2 == 'C' and c > 0:\n",
    "                new_state = (a - 1 + da, b + db, c - 1 + dc)\n",
    "            else:\n",
    "                continue\n",
    "\n",
    "            if new_state not in seen:\n",
    "                seen.add(new_state)\n",
    "                queue.append(new_state)\n",
    "\n",
    "    return list(seen)\n",
    "\n",
    "# Format outcomes into AAAA etc\n",
    "def format_outcomes(outcomes):\n",
    "    formatted = []\n",
    "    for a, b, c in outcomes:\n",
    "        outcome_str = 'A' * a + 'B' * b + 'C' * c\n",
    "        formatted.append(outcome_str)\n",
    "    return formatted\n",
    "\n",
    "# Input the total number of particles\n",
    "n = int(input(\"Enter the total number of particles: \"))  \n",
    "\n",
    "combinations = list(generate_combinations(n))\n",
    "# Shuffle to do in random order\n",
    "random.shuffle(combinations) \n",
    "\n",
    "# print results \n",
    "print(\"Outcomes from random initial combinations of particles after collisions:\")\n",
    "for a, b, c in combinations:\n",
    "    unique_outcomes = simulate_collisions(a, b, c)\n",
    "    formatted_outcomes = format_outcomes(unique_outcomes)\n",
    "    print(f\"Initial: A={a}, B={b}, C={c}\")\n",
    "    for outcome in formatted_outcomes:\n",
    "        print(f\"  {outcome}\")\n",
    "    print(\"-\" * 50)  \n"
   ]
  },
  {
   "cell_type": "markdown",
   "id": "28f411f1-8d24-4310-ae5c-e14beee9e839",
   "metadata": {},
   "source": [
    "I have been somewhat unsuccessful in coding this, and have been unable to work out how to remove duplications. However this still lists out all cycles and let us see the 3 cycles for a given $n$."
   ]
  },
  {
   "cell_type": "code",
   "execution_count": null,
   "id": "abc327eb-7c2a-431e-a1f5-e61e14bb2034",
   "metadata": {},
   "outputs": [],
   "source": []
  }
 ],
 "metadata": {
  "kernelspec": {
   "display_name": "Python 3 (ipykernel)",
   "language": "python",
   "name": "python3"
  },
  "language_info": {
   "codemirror_mode": {
    "name": "ipython",
    "version": 3
   },
   "file_extension": ".py",
   "mimetype": "text/x-python",
   "name": "python",
   "nbconvert_exporter": "python",
   "pygments_lexer": "ipython3",
   "version": "3.11.5"
  }
 },
 "nbformat": 4,
 "nbformat_minor": 5
}
